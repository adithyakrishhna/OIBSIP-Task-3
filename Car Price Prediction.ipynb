{
 "cells": [
  {
   "cell_type": "markdown",
   "id": "029cae55",
   "metadata": {},
   "source": [
    "# Oasis Infobyte - Data Science Internship task 3\n",
    "\n",
    "#### Car Price Prediction with Machine Learning"
   ]
  },
  {
   "cell_type": "markdown",
   "id": "5474d83e",
   "metadata": {},
   "source": [
    "Steps to build a ML model:\n",
    "\n",
    "1. Import dataset\n",
    "2. Visualizing the dataset\n",
    "3. Splitting the Data into Training and Testing Sets\n",
    "4. Rescaling the Features using MinMaxScaler\n",
    "5. Building our model\n",
    "6. Residual Analysis of the train data\n",
    "7. Making Perdiction.\n",
    "8. Model Evolution"
   ]
  },
  {
   "cell_type": "code",
   "execution_count": null,
   "id": "02ae5ec6",
   "metadata": {},
   "outputs": [],
   "source": []
  }
 ],
 "metadata": {
  "kernelspec": {
   "display_name": "Python 3 (ipykernel)",
   "language": "python",
   "name": "python3"
  },
  "language_info": {
   "codemirror_mode": {
    "name": "ipython",
    "version": 3
   },
   "file_extension": ".py",
   "mimetype": "text/x-python",
   "name": "python",
   "nbconvert_exporter": "python",
   "pygments_lexer": "ipython3",
   "version": "3.9.12"
  }
 },
 "nbformat": 4,
 "nbformat_minor": 5
}
